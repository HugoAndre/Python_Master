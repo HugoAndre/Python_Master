{
 "cells": [
  {
   "cell_type": "markdown",
   "metadata": {},
   "source": [
    "# Les Structures en Python\n",
    "(c) F. BONNARDOT - Janvier 2019 - Version 1.0\n",
    "\n",
    "Ce NoteBook est interactif : vous pouvez éditer et éxécuter tous les exemples.\n",
    "Pour plus de détails, consultez :\n",
    "* [Une introduction à Python 3 - Contrôle du flux d'instructions](https://perso.limsi.fr/pointal/_media/python:cours:courspython3.pdf)\n",
    "* [Apprendre à programmer en Python 3 - Contrôle du flux d'éxécution](http://inforef.be/swi/python.htm)"
   ]
  },
  {
   "cell_type": "markdown",
   "metadata": {},
   "source": [
    "## Structure conditionnelle si ... alors ... sinon\n",
    "\n",
    "La structure conditionnelle permet d'exécuter un bloc d'instruction selon qu'une condition soit vrai ou pas. On utilise dans cette structure if (si), else (sinon), elif (abrégé de else if : sinon si). La structure s'utilise comme indiqué ci-dessous:"
   ]
  },
  {
   "cell_type": "code",
   "execution_count": null,
   "metadata": {},
   "outputs": [],
   "source": [
    "if CONDITION1:\n",
    "    EXECUTE SI CONDITION1 EST VRAI\n",
    "elif CONDITION2:\n",
    "    EXECUTE SI CONDITION1 EST FAUX ET CONDITION 2 VRAI\n",
    "else:\n",
    "    EXECUTE SI AUCUNE CONDITION N'EST VRAIE"
   ]
  },
  {
   "cell_type": "markdown",
   "metadata": {},
   "source": [
    "Voici des exemples :"
   ]
  },
  {
   "cell_type": "code",
   "execution_count": 1,
   "metadata": {},
   "outputs": [
    {
     "name": "stdout",
     "output_type": "stream",
     "text": [
      "a est positif\n",
      "a est pair\n"
     ]
    }
   ],
   "source": [
    "# Exemple 1 : Signe de a\n",
    "\n",
    "# Vous pouvez changer la valeur de a (a entier)\n",
    "a=10\n",
    "\n",
    "if a<0:\n",
    "    print(\"a est négatif\")\n",
    "elif a==0:\n",
    "    print(\"a est nul\")\n",
    "else:\n",
    "    print(\"a est positif\")"
   ]
  },
  {
   "cell_type": "code",
   "execution_count": 2,
   "metadata": {},
   "outputs": [
    {
     "name": "stdout",
     "output_type": "stream",
     "text": [
      "a est pair\n"
     ]
    }
   ],
   "source": [
    "# Exemple 2 : Test de parité\n",
    "a=10\n",
    "\n",
    "if a&1==1:\n",
    "    print(\"a est impair\")\n",
    "else:\n",
    "    print(\"a est pair\")"
   ]
  },
  {
   "cell_type": "code",
   "execution_count": 5,
   "metadata": {},
   "outputs": [],
   "source": [
    "# Exemple 3 : Indique une erreur si a est négatif\n",
    "a=10\n",
    "\n",
    "if a<0:\n",
    "    raise Exception(\"erreur a est négatif\")"
   ]
  },
  {
   "cell_type": "markdown",
   "metadata": {},
   "source": [
    "Remarques :\n",
    "* les instructions associé au bloc sont indentées, ne pas utiliser l'indentation est une erreur en Python,\n",
    "* il est possible d'exécuter plusieurs instructions dans un bloc (c'est l'indentation qui permet d'identifier le début et la fin d'un bloc),\n",
    "* attention on utilise == pour effectuer un comparaison et non = qui sert pour l'affectation\n",
    "* l'instruction raise Exception permet d'indiquer à Python qu'il y a une erreur. Il est ensuite possible de gérer cette erreur (cf. try catch)."
   ]
  },
  {
   "cell_type": "markdown",
   "metadata": {},
   "source": [
    "## Structure répétitive tant que ... faire\n",
    "La structure répétitive permet d'exécuter plusieurs fois un bloc d'instruction tant qu'une condition est vraie. La structure s'utilise comme indiqué si dessous:"
   ]
  },
  {
   "cell_type": "code",
   "execution_count": null,
   "metadata": {},
   "outputs": [],
   "source": [
    "while CONDITION:\n",
    "    EXECUTE TANT QUE CONDITION EST VRAI# Exemple 1 : Saisie d'un entier"
   ]
  },
  {
   "cell_type": "markdown",
   "metadata": {},
   "source": [
    "Voici des exemples :"
   ]
  },
  {
   "cell_type": "code",
   "execution_count": null,
   "metadata": {},
   "outputs": [],
   "source": [
    "# Exemple 1 : Saisie d'un entier\n",
    "txt=input(\"Tapez un nombre entier positif :\")\n",
    "while txt.isnumeric()==False:\n",
    "    txt=input(\"Erreur, Tapez un nombre entier positif :\")\n",
    "nbr=int(txt)"
   ]
  },
  {
   "cell_type": "code",
   "execution_count": 6,
   "metadata": {},
   "outputs": [
    {
     "name": "stdout",
     "output_type": "stream",
     "text": [
      "Proposez un nombre entre 1 et 10 :3\n",
      "  Plus grand\n",
      "Proposez un nombre entre 1 et 10 :9\n",
      "  Plus petit\n",
      "Proposez un nombre entre 1 et 10 :7\n",
      "Félicitation vous avez trouvé en 3 essais\n"
     ]
    }
   ],
   "source": [
    "# Exemple 2 : Devine un nombre\n",
    "# Initialisation des variables\n",
    "trouve=False\n",
    "tirage=7\n",
    "essais=0\n",
    "# Tant que l'on n'a pas trouvé, on recommance\n",
    "while trouve==False:\n",
    "    # Saisie du nombre\n",
    "    txt=input(\"Proposez un nombre entre 1 et 10 :\")\n",
    "    essais=essais+1\n",
    "    # Contrôle de la saisie\n",
    "    if txt.isnumeric()==False:\n",
    "        print(\"  Vous n'avez pas saisi un nombre\")\n",
    "    else:\n",
    "        proposition=int(txt)\n",
    "        if proposition>tirage:\n",
    "            print(\"  Plus petit\")\n",
    "        elif proposition<tirage:\n",
    "            print(\"  Plus grand\")\n",
    "        else:\n",
    "            trouve=True\n",
    "# On est sortie de la boucle -> affiche le nombre d'essais\n",
    "print(\"Félicitation vous avez trouvé en {:d} essais\".format(essais))"
   ]
  },
  {
   "cell_type": "markdown",
   "metadata": {},
   "source": [
    "Remarques :\n",
    "* input permet de demander à l'utilisateur de saisir du texte,\n",
    "* la conversion d'une variable txt en entier se fait en tapant int(txt), pour la conversion en nombre réel on utilise float(txt),\n",
    "* il n'existe pas de do ... while (faire ... tant que) en Python."
   ]
  },
  {
   "cell_type": "markdown",
   "metadata": {},
   "source": [
    "## Structure répétitive pour chaque élément ... dans ...\n",
    "Attention, le for est différent des autres langages de programmation (il correspond plutôt à un foreach)...\n",
    "\n",
    "Il permet d'exécuter le bloc d'instruction pour chaque élément d'un ensemble. L'ensemble pouvant être un intervalle, un tableau, ... Il s'utilise de la manière suivante :"
   ]
  },
  {
   "cell_type": "code",
   "execution_count": null,
   "metadata": {},
   "outputs": [],
   "source": [
    "for ELEMENT in ENSEMBLE:\n",
    "    EXECUTE POUR CHAQUE ELEMENT"
   ]
  },
  {
   "cell_type": "markdown",
   "metadata": {},
   "source": [
    "Voici des exemples :"
   ]
  },
  {
   "cell_type": "code",
   "execution_count": 9,
   "metadata": {},
   "outputs": [
    {
     "name": "stdout",
     "output_type": "stream",
     "text": [
      "1\n",
      "2\n",
      "3\n"
     ]
    }
   ],
   "source": [
    "# Exemple 1 :\n",
    "# Exécute l'instruction pour index variant de 1 à 4 (4 exclus)\n",
    "for index in range(1,4):\n",
    "    print(index)"
   ]
  },
  {
   "cell_type": "code",
   "execution_count": 10,
   "metadata": {},
   "outputs": [
    {
     "name": "stdout",
     "output_type": "stream",
     "text": [
      "ROANNE\n",
      "LYON\n",
      "SAINT ETIENNE\n",
      "PARIS\n",
      "NOUAN-Le-FUZELIER\n"
     ]
    }
   ],
   "source": [
    "# Exemple 2 : On va parcourir un tableau\n",
    "tableau=['ROANNE','LYON','SAINT ETIENNE','PARIS','NOUAN-Le-FUZELIER']\n",
    "for elem in tableau:\n",
    "    print(elem)"
   ]
  },
  {
   "cell_type": "code",
   "execution_count": 11,
   "metadata": {},
   "outputs": [
    {
     "name": "stdout",
     "output_type": "stream",
     "text": [
      "elément n°0 : ROANNE\n",
      "elément n°1 : LYON\n",
      "elément n°2 : SAINT ETIENNE\n",
      "elément n°3 : PARIS\n",
      "elément n°4 : NOUAN-Le-FUZELIER\n"
     ]
    }
   ],
   "source": [
    "# Exemple 3 : On va parcourir un tableau en conservant la position\n",
    "tableau=['ROANNE','LYON','SAINT ETIENNE','PARIS','NOUAN-Le-FUZELIER']\n",
    "for index in range(len(tableau)):\n",
    "    print(\"elément n°{:d} : {:s}\".format(index,tableau[index]))"
   ]
  },
  {
   "cell_type": "code",
   "execution_count": 12,
   "metadata": {},
   "outputs": [
    {
     "name": "stdout",
     "output_type": "stream",
     "text": [
      "[ 0.  1.  1.  2.  3.  5.  8. 13. 21. 34.]\n"
     ]
    }
   ],
   "source": [
    "# Exemple 4 : Calcul de la suite de Fibonacci\n",
    "import numpy as np\n",
    "# Initialisatation des variables\n",
    "N=10            # Nombre de terme à calculer\n",
    "fib=np.zeros(N) # Pour stocker le résultat\n",
    "fib[0]=0\n",
    "fib[1]=1\n",
    "# Pour index variant de 2 à N-1\n",
    "for index in range(2,N):\n",
    "    fib[index]=fib[index-1]+fib[index-2]\n",
    "# Affiche le résultat\n",
    "print(fib)"
   ]
  },
  {
   "cell_type": "markdown",
   "metadata": {},
   "source": [
    "Remarques :\n",
    "* range(a,b) crée un ensemble de nombre entier dans l'intervalle $[a,b[$ dont b est exclu,\n",
    "* on crée en mémoire un tableau si on utilise range, si vous ne voulez pas créer un tel tableau, il faut utiliser un while."
   ]
  },
  {
   "cell_type": "code",
   "execution_count": null,
   "metadata": {},
   "outputs": [],
   "source": []
  }
 ],
 "metadata": {
  "kernelspec": {
   "display_name": "Python 3",
   "language": "python",
   "name": "python3"
  },
  "language_info": {
   "codemirror_mode": {
    "name": "ipython",
    "version": 3
   },
   "file_extension": ".py",
   "mimetype": "text/x-python",
   "name": "python",
   "nbconvert_exporter": "python",
   "pygments_lexer": "ipython3",
   "version": "3.7.0"
  }
 },
 "nbformat": 4,
 "nbformat_minor": 2
}
